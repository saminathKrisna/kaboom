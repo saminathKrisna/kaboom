{
 "cells": [
  {
   "cell_type": "code",
   "execution_count": 1,
   "metadata": {
    "collapsed": true
   },
   "outputs": [],
   "source": [
    "import tkinter as tk\n",
    "from tkinter import *\n",
    "from tkinter import ttk\n",
    "import matplotlib\n",
    "matplotlib.use(\"TkAgg\")\n",
    "from matplotlib.backends.backend_tkagg import FigureCanvasTkAgg\n",
    "from matplotlib.figure import Figure\n",
    "import pandas as pd\n",
    "from PIL import Image, ImageTk\n",
    "import os"
   ]
  },
  {
   "cell_type": "code",
   "execution_count": 2,
   "metadata": {
    "collapsed": true
   },
   "outputs": [],
   "source": [
    "dfa = pd.read_csv(\"stock_prices(1).csv\")\n",
    "dfb = pd.read_csv(\"S&P_stock_details.csv\")\n",
    "\n",
    "investing_list = pd.read_csv(\"reccomendation.csv\")[\"investing_list\"].tolist()\n",
    "        \n",
    "path = 'C:/Users/USER/College Project/intraQuarter'\n",
    "stats_path = path + '/_KeyStats'\n",
    "stock_list = [x[0] for x in os.walk(stats_path)]\n",
    "\n",
    "ticker_list = []\n",
    "    \n",
    "for each_dir in stock_list[1:]:\n",
    "    each_file = os.listdir(each_dir)\n",
    "    ticker = each_dir.split('\\\\')[1]\n",
    "    ticker_list.append(ticker)\n",
    "\n",
    "all_companies_list = []\n",
    "\n",
    "for i in dfb[\"Symbol\"]:\n",
    "    if i.lower() in ticker_list:\n",
    "        all_companies_list.append(dfb[dfb[\"Symbol\"] == i][\"Name\"].tolist()[0])\n",
    "        \n",
    "reccomended_stock_list = []\n",
    "\n",
    "for i in dfb[\"Symbol\"]:\n",
    "    if i.lower() in investing_list:\n",
    "        reccomended_stock_list.append(dfb[dfb[\"Symbol\"] == i][\"Name\"].tolist()[0])\n",
    "\n",
    "sector_list = []\n",
    "\n",
    "for i in dfb[\"Sector\"].unique():\n",
    "    sector_list.append(i)"
   ]
  },
  {
   "cell_type": "code",
   "execution_count": 3,
   "metadata": {
    "collapsed": true
   },
   "outputs": [],
   "source": [
    "def get_ticker_for_name(name):\n",
    "    return dfb[dfb[\"Name\"] == name][\"Symbol\"].tolist()[0]"
   ]
  },
  {
   "cell_type": "code",
   "execution_count": 40,
   "metadata": {
    "collapsed": true
   },
   "outputs": [],
   "source": [
    "def sector_specific_list(selected_sector):\n",
    "    return dfb[dfb[\"Sector\"] == selected_sector][\"Name\"].tolist()"
   ]
  },
  {
   "cell_type": "code",
   "execution_count": 53,
   "metadata": {
    "collapsed": true
   },
   "outputs": [],
   "source": [
    "# Main Page\n",
    "\n",
    "root = Tk()\n",
    "root.geometry('1320x730')\n",
    "\n",
    "color = \"white\"\n",
    "\n",
    "frame = Frame(root, background = color)\n",
    "frame.grid()\n",
    "\n",
    "def main_page(frame):\n",
    "\n",
    "    main_label = tk.Label(frame, text = \"STOCK PREDICTION SYSTEM\")\n",
    "    main_label.config(font = (\"Times New Roman\", 35, \"bold\"), bg = color)\n",
    "    main_label.grid(row = 0, ipadx = 25,padx = (290,290), ipady = 25, pady = (0,30), columnspan = 2, sticky = EW)\n",
    "\n",
    "    reccommended_stocks_label = tk.Label(frame, text = \"RECCOMMENDED STOCKS\")\n",
    "    reccommended_stocks_label.config(font = (\"Times New Roman\", 25, \"italic\"), bg = color)\n",
    "    reccommended_stocks_label.grid(row = 1, columnspan = 2, pady = (0, 25), sticky = EW)\n",
    "\n",
    "    variable1 = StringVar(root)\n",
    "    variable1.set(reccomended_stock_list[0])\n",
    "    reccommended_drop_down = OptionMenu(frame, variable1, *reccomended_stock_list)\n",
    "    reccommended_drop_down.config(font = (\"Times New Roman\", 15), bg = color, width=25)\n",
    "    reccommended_drop_down.grid(row = 2, column = 0, ipadx = 25, ipady = 15, pady = (0, 30), padx = (230,0))\n",
    "\n",
    "    go_button1 = tk.Button(frame, text = \"Go\",  borderwidth = 1)\n",
    "    go_button1.config(font = (\"Times New Roman\", 15), bg = color, width = 25)\n",
    "    go_button1.grid(row = 2, column = 1, ipadx = 25, ipady = 15, pady = (0, 30), padx = (0, 230))\n",
    "\n",
    "    sectors_label = tk.Label(frame, text = \"SECTORS\")\n",
    "    sectors_label.config(font = (\"Times New Roman\", 25, \"italic\"), bg = color, width = 35)\n",
    "    sectors_label.grid(row = 3, column = 0, pady = (25, 25), columnspan = 2, sticky = EW)\n",
    "\n",
    "    variable2 = StringVar(frame)\n",
    "    variable2.set(sector_list[0])\n",
    "    sector_drop_down = OptionMenu(frame, variable2, *sector_list)\n",
    "    sector_drop_down.config(font = (\"Times New Roman\", 15), bg = color, width=25)\n",
    "    sector_drop_down.grid(row = 4, column = 0, ipadx = 25, ipady = 15, pady = (0, 30), padx = (230,0))\n",
    "\n",
    "    go_button2 = tk.Button(frame, text = \"Go\",  borderwidth = 1)\n",
    "    go_button2.config(font = (\"Times New Roman\", 15), bg = color, width = 25)\n",
    "    go_button2.grid(row = 4, column = 1, ipadx = 25, ipady = 15, pady = (0, 30), padx = (0, 230))\n",
    "\n",
    "    all_stocks_label = tk.Label(frame, text = \"ALL STOCKS IN S&P 500\")\n",
    "    all_stocks_label.config(font = (\"Times New Roman\", 25, \"italic\"), bg = color, width = 35)\n",
    "    all_stocks_label.grid(row = 5, column = 0, pady = (25,25), columnspan = 2, sticky = EW)\n",
    "\n",
    "    variable3 = StringVar(frame)\n",
    "    variable3.set(all_companies_list[0])\n",
    "    all_stocks_drop_down = OptionMenu(frame, variable3, *all_companies_list)\n",
    "    all_stocks_drop_down.config(font = (\"Times New Roman\", 15), bg = color, width=25)\n",
    "    all_stocks_drop_down.grid(row = 6, column = 0, ipadx = 25, ipady = 15, pady = (0, 100), padx = (230,0))\n",
    "\n",
    "    go_button3 = tk.Button(frame, text = \"Go\",  borderwidth = 1)\n",
    "    go_button3.config(font = (\"Times New Roman\", 15), bg = color, width = 25)\n",
    "    go_button3.grid(row = 6, column = 1, ipadx = 25, ipady = 15, pady = (0, 100), padx = (0, 230))\n",
    "    \n",
    "main_page(frame)\n",
    "\n",
    "root.mainloop()"
   ]
  },
  {
   "cell_type": "code",
   "execution_count": 52,
   "metadata": {},
   "outputs": [],
   "source": [
    "# Sector Page\n",
    "\n",
    "root = tk.Toplevel()\n",
    "root.geometry('1320x730')\n",
    "\n",
    "color = \"white\"\n",
    "\n",
    "frame = Frame(root, background = color)\n",
    "frame.grid()\n",
    "\n",
    "back_button = Button(frame, background = color, borderwidth = 0)\n",
    "photo = Image.open('back_button.png')\n",
    "image = ImageTk.PhotoImage(photo)\n",
    "back_button.config(image = image)\n",
    "back_button.grid(sticky = W, padx = (25,125), pady = (25,25), row = 0, column = 0)\n",
    "\n",
    "sector_name = tk.Label(frame, text = sector_list[2].upper())\n",
    "sector_name.config(font = (\"Times New Roman\", 35, \"bold\"), bg = color)\n",
    "sector_name.grid(ipadx = 25, padx = (100,250), pady = (25,25), row = 0, column = 1)\n",
    "\n",
    "variable = StringVar(root)\n",
    "variable.set(sector(sector_list[2])[0])\n",
    "drop_down = OptionMenu(frame, variable, *sector(sector_list[2]))\n",
    "drop_down.config(font = (\"Times New Roman\", 15), bg = color, width = 60, borderwidth = 1)\n",
    "drop_down.grid(padx = (170,100), pady = 50, ipady = 10, columnspan = 2)\n",
    "\n",
    "\n",
    "selected_stock_ticker = get_ticker_for_name(variable.get())\n",
    "selected_stock = variable.get()\n",
    "\n",
    "go_button = Button(frame, text = \"Go\", padx = 20,  borderwidth = 1)\n",
    "go_button.config(font = (\"Times New Roman\", 15), bg = color, width = 25)\n",
    "go_button.grid(padx = (170,100), pady = (20,400), ipady = 10, columnspan = 2)\n",
    "\n",
    "root.mainloop()"
   ]
  },
  {
   "cell_type": "code",
   "execution_count": 44,
   "metadata": {},
   "outputs": [],
   "source": [
    "# Result Page\n",
    "\n",
    "root = tk.Toplevel()\n",
    "root.geometry('1320x730')\n",
    "\n",
    "color = \"white\"\n",
    "\n",
    "frame = Frame(root, background = color)\n",
    "frame.grid()\n",
    "\n",
    "back_button = Button(frame, background = color, borderwidth = 0)\n",
    "photo = Image.open('back_button.png')\n",
    "image = ImageTk.PhotoImage(photo)\n",
    "back_button.config(image = image)\n",
    "back_button.grid(row = 0, column = 0, pady = (25,25), padx = (25,25), sticky = W)\n",
    "\n",
    "stock_name_label = tk.Label(frame, text = selected_stock.upper() + \" (\" + selected_stock_ticker + \")\")\n",
    "stock_name_label.config(font = (\"Times New Roman\", 35, \"bold\"), bg = color)\n",
    "stock_name_label.grid(row = 0, column = 1, pady = (25,15), padx = (0,170))\n",
    "\n",
    "rec = \"yes\"\n",
    "\n",
    "reccomendation = tk.Label(frame, text = \"RECCOMMENDED: \" + rec.upper())\n",
    "reccomendation.config(font = (\"Times New Roman\", 25), bg = color)\n",
    "reccomendation.grid(columnspan = 2, padx = (120,0))\n",
    "\n",
    "f = Figure(figsize = (12,6), dpi = 100)\n",
    "a = f.add_subplot(111)\n",
    "a.plot(dfa['Date'], dfa[selected_stock_ticker])\n",
    "a.set_ylabel = \"Price\"\n",
    "a.axes.xaxis.set_ticklabels([])\n",
    "\n",
    "canvas = FigureCanvasTkAgg(f, frame)\n",
    "canvas.show()\n",
    "canvas.get_tk_widget().grid(columnspan = 2, padx = (130,0))\n",
    "\n",
    "root.mainloop()"
   ]
  },
  {
   "cell_type": "code",
   "execution_count": null,
   "metadata": {},
   "outputs": [],
   "source": [
    "def sector1(selected_sector):\n",
    "    return dfb[dfb[\"Sector\"] == selected_sector][\"Name\"].tolist()\n",
    "\n",
    "sector_number = 2\n",
    "\n",
    "print(sector_list[sector_number])\n",
    "sector1(sector_list[sector_number])[0]\n"
   ]
  },
  {
   "cell_type": "code",
   "execution_count": null,
   "metadata": {},
   "outputs": [],
   "source": [
    "def get_ticker_for_name(name):\n",
    "    return dfb[dfb[\"Name\"] == name][\"Symbol\"].tolist()[0]\n",
    "\n",
    "get_ticker_for_name(\"AES Corp\")"
   ]
  }
 ],
 "metadata": {
  "kernelspec": {
   "display_name": "Python 3",
   "language": "python",
   "name": "python3"
  },
  "language_info": {
   "codemirror_mode": {
    "name": "ipython",
    "version": 3
   },
   "file_extension": ".py",
   "mimetype": "text/x-python",
   "name": "python",
   "nbconvert_exporter": "python",
   "pygments_lexer": "ipython3",
   "version": "3.6.3"
  }
 },
 "nbformat": 4,
 "nbformat_minor": 2
}
