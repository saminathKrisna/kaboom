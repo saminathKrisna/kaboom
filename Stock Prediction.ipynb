{
 "cells": [
  {
   "cell_type": "code",
   "execution_count": 2,
   "metadata": {},
   "outputs": [],
   "source": [
    "import numpy as np\n",
    "import matplotlib.pyplot as plt\n",
    "from sklearn import svm, preprocessing\n",
    "import pandas as pd\n",
    "from matplotlib import style\n",
    "import statistics\n",
    "from collections import Counter\n",
    "from IPython.display import display"
   ]
  },
  {
   "cell_type": "code",
   "execution_count": 3,
   "metadata": {
    "collapsed": true
   },
   "outputs": [],
   "source": [
    "how_much_better = 8\n",
    "\n",
    "FEATURES =  ['DE Ratio',\n",
    "             'Trailing P/E',\n",
    "             'Price/Sales',\n",
    "             'Price/Book',\n",
    "             'Profit Margin',\n",
    "             'Operating Margin',\n",
    "             'Return on Assets',\n",
    "             'Return on Equity',\n",
    "             'Revenue Per Share',\n",
    "             'Market Cap',\n",
    "             'Enterprise Value',\n",
    "             'Forward P/E',\n",
    "             'PEG Ratio',\n",
    "             'Enterprise Value/Revenue',\n",
    "             'Enterprise Value/EBITDA',\n",
    "             'Revenue',\n",
    "             'Gross Profit',\n",
    "             'EBITDA',\n",
    "             'Net Income Avl to Common ',\n",
    "             'Diluted EPS',\n",
    "             'Earnings Growth',\n",
    "             'Revenue Growth',\n",
    "             'Total Cash',\n",
    "             'Total Cash Per Share',\n",
    "             'Total Debt',\n",
    "             'Current Ratio',\n",
    "             'Book Value Per Share',\n",
    "             'Cash Flow',\n",
    "             'Beta',\n",
    "             'Held by Insiders',\n",
    "             'Held by Institutions',\n",
    "             'Shares Short (as of',\n",
    "             'Short Ratio',\n",
    "             'Short % of Float',\n",
    "             'Shares Short (prior ']"
   ]
  },
  {
   "cell_type": "code",
   "execution_count": 4,
   "metadata": {
    "collapsed": true
   },
   "outputs": [],
   "source": [
    "def Status_Calc(stock, sp500):\n",
    "    difference = stock - sp500\n",
    "    \n",
    "    if difference > how_much_better:\n",
    "        return 1\n",
    "    else:\n",
    "        return 0"
   ]
  },
  {
   "cell_type": "code",
   "execution_count": 5,
   "metadata": {
    "collapsed": true
   },
   "outputs": [],
   "source": [
    "def Build_Data_Set():\n",
    "    data_df = pd.DataFrame.from_csv(\"key_stats_acc_perf_NO_NA_enhanced(1).csv\")\n",
    "\n",
    "    #data_df = data_df[:100]\n",
    "    data_df = data_df.reindex(np.random.permutation(data_df.index))\n",
    "    data_df = data_df.replace(\"NaN\",0).replace(\"N/A\",0)\n",
    "    data_df = data_df.fillna(0)\n",
    "    \n",
    "    data_df[\"Status2\"] = list(map(Status_Calc, data_df[\"stock_p_change\"], data_df[\"sp500_p_change\"]))    \n",
    "    \n",
    "\n",
    "    X = np.array(data_df[FEATURES].values)\n",
    "\n",
    "    y = (data_df[\"Status2\"]\n",
    "         .replace(\"underperform\",0)\n",
    "         .replace(\"outperform\",1)\n",
    "         .values.tolist())\n",
    "\n",
    "    X = preprocessing.scale(X)\n",
    "    Z = np.array(data_df[['stock_p_change', 'sp500_p_change']])\n",
    "\n",
    "\n",
    "    return X,y,Z"
   ]
  },
  {
   "cell_type": "code",
   "execution_count": 6,
   "metadata": {},
   "outputs": [
    {
     "name": "stderr",
     "output_type": "stream",
     "text": [
      "C:\\Users\\USER\\Anaconda3\\lib\\site-packages\\sklearn\\preprocessing\\data.py:164: UserWarning: Numerical issues were encountered when centering the data and might not be solved. Dataset may contain too large values. You may need to prescale your features.\n",
      "  warnings.warn(\"Numerical issues were encountered \"\n"
     ]
    },
    {
     "name": "stdout",
     "output_type": "stream",
     "text": [
      "----------------------------------------------------------------------------------------------------------------------------\n",
      "Number of investments: 5\n",
      "----------------------------------------------------------------------------------------------------------------------------\n",
      "['c', 'eog', 'fmc', 'kmi', 'wat']\n",
      "investing_list is saved as csv file\n"
     ]
    }
   ],
   "source": [
    "def Analysis():\n",
    "\n",
    "    test_size = 1\n",
    "    invest_amount = 10000\n",
    "    total_invests = 0\n",
    "    if_market = 0\n",
    "    if_strat = 0\n",
    "    \n",
    "    \n",
    "    X, y, Z = Build_Data_Set()\n",
    "\n",
    "    clf = svm.SVC(kernel=\"linear\", C= 1.0)\n",
    "    clf.fit(X[:-test_size],y[:-test_size])\n",
    "\n",
    "    correct_count = 0\n",
    "    prediction = clf.predict(X)\n",
    "\n",
    "    for x in range(1, test_size+1):\n",
    "        if prediction[x] == y[x]:\n",
    "            correct_count += 1\n",
    "            \n",
    "        if prediction[x] == 1:\n",
    "            invest_return = invest_amount + (invest_amount * Z[x][0]/100 )\n",
    "            market_return = invest_amount + (invest_amount * Z[x][1]/100 )\n",
    "            total_invests += 1\n",
    "            if_market += market_return\n",
    "            if_strat += invest_return\n",
    "            \n",
    "\n",
    "#    print(\"Accuracy:\", (float(correct_count)/float(test_size)) * 100.00)\n",
    "#    print(\"Total trades:\", total_invests)\n",
    "#    print(\"Ending with strategy:\", if_strat)\n",
    "#    print(\"Ending with market:\", if_market)\n",
    "#    compared = ((if_strat - if_market) / if_market) * 100.0\n",
    "#    do_nothing = total_invests * invest_amount\n",
    "#    avg_market = ((if_market - do_nothing) / do_nothing) * 100.0\n",
    "#    avg_strat = ((if_strat - do_nothing) / do_nothing) * 100.0\n",
    "#    print(\"compared to market we earn \" + str(compared) + \"% more\")\n",
    "#    print(\"Average market return \" + str(avg_market) + \"%\")\n",
    "#    print(\"Average stratergy return \" + str(avg_strat) + \"%\")\n",
    "    \n",
    "    data_df = pd.DataFrame.from_csv(\"forward_sample_NO_NA.csv\")\n",
    "    data_df = data_df.replace(\"NaN\",0).replace(\"N/A\",0)\n",
    "    data_df = data_df.fillna(0)\n",
    "    X = np.array(data_df[FEATURES].values)\n",
    "\n",
    "    X = preprocessing.scale(X)\n",
    "\n",
    "    Z = data_df[\"Ticker\"].values.tolist()\n",
    "\n",
    "    invest_list = []\n",
    "\n",
    "    for i in range(len(X)):\n",
    "        p = clf.predict([X[i]])[0]\n",
    "        if p == 1:\n",
    "            #print(Z[i])\n",
    "            invest_list.append(Z[i])\n",
    " \n",
    "    return invest_list\n",
    "\n",
    "final_list = []\n",
    "investing_list = []\n",
    "loops = 8\n",
    "\n",
    "for x in range(loops):\n",
    "    stock_list = Analysis()\n",
    "    for e in stock_list:\n",
    "        final_list.append(e)\n",
    "        \n",
    "x = Counter(final_list)\n",
    "print( '--' * 62)\n",
    "\n",
    "for each in x:\n",
    "    if x[each] > loops - (loops/3):\n",
    "        investing_list.append(each)\n",
    "        \n",
    "print(\"Number of investments:\", len(investing_list))\n",
    "print( '--' * 62)\n",
    "print(investing_list)        \n",
    "    \n",
    "dfa = pd.DataFrame(investing_list, columns=[\"investing_list\"])\n",
    "dfa.to_csv('reccomendation.csv', index=False)\n",
    "print(\"investing_list is saved as csv file\")"
   ]
  }
 ],
 "metadata": {
  "kernelspec": {
   "display_name": "Python 3",
   "language": "python",
   "name": "python3"
  },
  "language_info": {
   "codemirror_mode": {
    "name": "ipython",
    "version": 3
   },
   "file_extension": ".py",
   "mimetype": "text/x-python",
   "name": "python",
   "nbconvert_exporter": "python",
   "pygments_lexer": "ipython3",
   "version": "3.6.3"
  }
 },
 "nbformat": 4,
 "nbformat_minor": 2
}
