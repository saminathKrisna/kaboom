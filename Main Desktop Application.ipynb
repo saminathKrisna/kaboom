{
 "cells": [
  {
   "cell_type": "code",
   "execution_count": 1,
   "metadata": {
    "collapsed": true
   },
   "outputs": [],
   "source": [
    "import tkinter as tk\n",
    "from tkinter import *\n",
    "from tkinter import ttk\n",
    "import matplotlib\n",
    "matplotlib.use(\"TkAgg\")\n",
    "from matplotlib.backends.backend_tkagg import FigureCanvasTkAgg\n",
    "from matplotlib.figure import Figure\n",
    "import pandas as pd\n",
    "from PIL import Image, ImageTk\n",
    "import os"
   ]
  },
  {
   "cell_type": "code",
   "execution_count": 2,
   "metadata": {
    "collapsed": true
   },
   "outputs": [],
   "source": [
    "dfa = pd.read_csv(\"stock_prices(1).csv\")\n",
    "dfb = pd.read_csv(\"S&P_stock_details.csv\")\n",
    "\n",
    "investing_list = pd.read_csv(\"reccomendation.csv\")[\"investing_list\"].tolist()\n",
    "        \n",
    "path = 'C:/Users/USER/College Project/intraQuarter'\n",
    "stats_path = path + '/_KeyStats'\n",
    "stock_list = [x[0] for x in os.walk(stats_path)]"
   ]
  },
  {
   "cell_type": "code",
   "execution_count": 3,
   "metadata": {
    "collapsed": true
   },
   "outputs": [],
   "source": [
    "ticker_list = []\n",
    "    \n",
    "for each_dir in stock_list[1:]:\n",
    "    each_file = os.listdir(each_dir)\n",
    "    ticker = each_dir.split('\\\\')[1]\n",
    "    ticker_list.append(ticker)"
   ]
  },
  {
   "cell_type": "code",
   "execution_count": 4,
   "metadata": {
    "collapsed": true
   },
   "outputs": [],
   "source": [
    "all_companies_list = []\n",
    "\n",
    "for i in dfb[\"Symbol\"]:\n",
    "    if i.lower() in ticker_list:\n",
    "        all_companies_list.append(dfb[dfb[\"Symbol\"] == i][\"Name\"].tolist()[0])"
   ]
  },
  {
   "cell_type": "code",
   "execution_count": 5,
   "metadata": {
    "collapsed": true
   },
   "outputs": [],
   "source": [
    "reccomended_stock_list = []\n",
    "\n",
    "for i in dfb[\"Symbol\"]:\n",
    "    if i.lower() in investing_list:\n",
    "        reccomended_stock_list.append(dfb[dfb[\"Symbol\"] == i][\"Name\"].tolist()[0])"
   ]
  },
  {
   "cell_type": "code",
   "execution_count": 6,
   "metadata": {
    "collapsed": true
   },
   "outputs": [],
   "source": [
    "sector_list = []\n",
    "\n",
    "for i in dfb[\"Sector\"].unique():\n",
    "    sector_list.append(i)"
   ]
  },
  {
   "cell_type": "code",
   "execution_count": 7,
   "metadata": {
    "collapsed": true
   },
   "outputs": [],
   "source": [
    "def get_ticker_for_name(name):\n",
    "    return dfb[dfb[\"Name\"] == name][\"Symbol\"].tolist()[0]"
   ]
  },
  {
   "cell_type": "code",
   "execution_count": 8,
   "metadata": {
    "collapsed": true
   },
   "outputs": [],
   "source": [
    "def sector_specific_list(selected_sector):\n",
    "    return dfb[dfb[\"Sector\"] == selected_sector][\"Name\"].tolist()"
   ]
  },
  {
   "cell_type": "code",
   "execution_count": 56,
   "metadata": {
    "collapsed": true
   },
   "outputs": [],
   "source": [
    "# Main Page\n",
    "\n",
    "def main_page():\n",
    "    \n",
    "    main_window = Tk()\n",
    "    main_window.geometry('1320x730')\n",
    "    main_window.title(\"Stock Prediction System - Main Page\")\n",
    "\n",
    "    color = \"white\"\n",
    "\n",
    "    frame = Frame(main_window, background = color)\n",
    "    frame.grid()\n",
    "\n",
    "    main_label = Label(frame, text = \"STOCK PREDICTION SYSTEM\")\n",
    "    main_label.config(font = (\"Times New Roman\", 35, \"bold\"), bg = color)\n",
    "    main_label.grid(row = 0, ipadx = 25,padx = (290,290), ipady = 25, pady = (0,30), columnspan = 2, sticky = EW)\n",
    "\n",
    "    reccommended_stocks_label = Label(frame, text = \"RECCOMMENDED STOCKS\")\n",
    "    reccommended_stocks_label.config(font = (\"Times New Roman\", 25), bg = color)\n",
    "    reccommended_stocks_label.grid(row = 1, columnspan = 2, pady = (0, 25), sticky = EW)\n",
    "\n",
    "    variable1 = StringVar(frame)\n",
    "    variable1.set(reccomended_stock_list[0])\n",
    "    reccommended_drop_down = OptionMenu(frame, variable1, *reccomended_stock_list)\n",
    "    reccommended_drop_down.config(font = (\"Times New Roman\", 15), bg = color, width = 25, borderwidth = 0, highlightbackground = \"black\")\n",
    "    reccommended_drop_down.grid(row = 2, column = 0, ipadx = 25, ipady = 15, pady = (0, 30), padx = (230,0))\n",
    "    \n",
    "    def goToResultsPage():\n",
    "        main_window.destroy()\n",
    "        stock = variable1.get()\n",
    "        ticker = get_ticker_for_name(stock)\n",
    "        results_page(stock, ticker)\n",
    "\n",
    "    go_button1 = Button(frame, text = \"Go\",  borderwidth = 0, command = goToResultsPage)\n",
    "    go_button1.config(font = (\"Times New Roman\", 15), bg = \"black\", width = 25, fg = color)\n",
    "    go_button1.grid(row = 2, column = 1, ipadx = 25, ipady = 15, pady = (0, 30), padx = (0, 230))\n",
    "\n",
    "    sectors_label = Label(frame, text = \"SECTORS\")\n",
    "    sectors_label.config(font = (\"Times New Roman\", 25), bg = color, width = 35)\n",
    "    sectors_label.grid(row = 3, column = 0, pady = (25, 25), columnspan = 2, sticky = EW)\n",
    "\n",
    "    variable2 = StringVar(frame)\n",
    "    variable2.set(sector_list[0])\n",
    "    sector_drop_down = OptionMenu(frame, variable2, *sector_list)\n",
    "    sector_drop_down.config(font = (\"Times New Roman\", 15), bg = color, width = 25, borderwidth = 0, highlightbackground = \"black\")\n",
    "    sector_drop_down.grid(row = 4, column = 0, ipadx = 25, ipady = 15, pady = (0, 30), padx = (230,0))\n",
    "    \n",
    "    def goToSectorPage():\n",
    "        main_window.destroy()\n",
    "        sector_name = variable2.get()\n",
    "        sector_page(sector_name)\n",
    "\n",
    "    go_button2 = Button(frame, text = \"Go\",  borderwidth = 0, command = goToSectorPage)\n",
    "    go_button2.config(font = (\"Times New Roman\", 15), fg = color, width = 25, bg = \"black\")\n",
    "    go_button2.grid(row = 4, column = 1, ipadx = 25, ipady = 15, pady = (0, 30), padx = (0, 230))\n",
    "\n",
    "    all_stocks_label = Label(frame, text = \"ALL STOCKS IN S&P 500\")\n",
    "    all_stocks_label.config(font = (\"Times New Roman\", 25), bg = color, width = 35)\n",
    "    all_stocks_label.grid(row = 5, column = 0, pady = (25,25), columnspan = 2, sticky = EW)\n",
    "\n",
    "    variable3 = StringVar(frame)\n",
    "    variable3.set(all_companies_list[0])\n",
    "    all_stocks_drop_down = OptionMenu(frame, variable3, *all_companies_list)\n",
    "    all_stocks_drop_down.config(font = (\"Times New Roman\", 15), bg = color, width = 25, borderwidth = 0, highlightbackground = \"black\")\n",
    "    all_stocks_drop_down.grid(row = 6, column = 0, ipadx = 25, ipady = 15, pady = (0, 100), padx = (230,0))\n",
    "    \n",
    "    def goToResultsPage():\n",
    "        main_window.destroy()\n",
    "        stock = variable3.get()\n",
    "        ticker = get_ticker_for_name(stock)\n",
    "        results_page(stock, ticker)\n",
    "\n",
    "    go_button3 = Button(frame, text = \"Go\",  borderwidth = 0, command = goToResultsPage)\n",
    "    go_button3.config(font = (\"Times New Roman\", 15), fg = color, width = 25, bg = \"black\")\n",
    "    go_button3.grid(row = 6, column = 1, ipadx = 25, ipady = 15, pady = (0, 100), padx = (0, 230))\n",
    "    \n",
    "    main_window.mainloop()\n",
    "    \n",
    "main_page()"
   ]
  },
  {
   "cell_type": "code",
   "execution_count": 34,
   "metadata": {
    "collapsed": true
   },
   "outputs": [],
   "source": [
    "# Sector Page\n",
    "\n",
    "def sector_page(selected_sector):\n",
    "    \n",
    "    sector_window = Tk()\n",
    "    sector_window.geometry('1320x730')\n",
    "    sector_window.title(\"Stock Prediction System - Sectors Page\")\n",
    "\n",
    "    color = \"white\"\n",
    "\n",
    "    frame = Frame(sector_window, background = color)\n",
    "    frame.pack(fill = BOTH)\n",
    "    \n",
    "    left_frame = Frame(frame, background = color)\n",
    "    left_frame.pack(side = LEFT, fill = Y, expand = False)\n",
    "\n",
    "    top_frame = Frame(frame, background = color)\n",
    "    top_frame.pack(side = TOP, fill = X, expand = True)\n",
    "    \n",
    "    def goToMainPage():\n",
    "        sector_window.destroy()\n",
    "        main_page()\n",
    "\n",
    "    back_button = Button(left_frame, text = \"Back\", borderwidth = 0, command = goToMainPage)\n",
    "    back_button.config(font = (\"Times New Roman\", 25, \"bold\"), bg = \"black\", fg = color)\n",
    "    back_button.pack(padx = (25,25), pady = (25,25))\n",
    "\n",
    "    sector_name = tk.Label(frame, text = selected_sector.upper())\n",
    "    sector_name.config(font = (\"Times New Roman\", 35, \"bold\"), bg = color)\n",
    "    sector_name.pack(padx = 50, pady = 50)\n",
    "\n",
    "    variable = StringVar(sector_window)\n",
    "    variable.set(sector_specific_list(selected_sector)[0])\n",
    "    drop_down = OptionMenu(frame, variable, *sector_specific_list(selected_sector))\n",
    "    drop_down.config(font = (\"Times New Roman\", 15), bg = color, width = 60, borderwidth = 0, highlightbackground = \"black\")\n",
    "    drop_down.pack(padx = 50, pady = 50, ipady = 10)\n",
    "    \n",
    "    def goToResultsPage():\n",
    "        sector_window.destroy()\n",
    "        stock = variable.get()\n",
    "        ticker = get_ticker_for_name(stock)\n",
    "        results_page(stock, ticker)\n",
    "\n",
    "    go_button = Button(frame, text = \"Go\", padx = 20,  borderwidth = 0, command = goToResultsPage)\n",
    "    go_button.config(font = (\"Times New Roman\", 15), bg = \"black\", fg = color, width = 25)\n",
    "    go_button.pack(padx = 20, pady = (25,340), ipady = 10)\n",
    "    \n",
    "    sector_window.mainloop()"
   ]
  },
  {
   "cell_type": "code",
   "execution_count": 15,
   "metadata": {
    "collapsed": true
   },
   "outputs": [],
   "source": [
    "# Results Page\n",
    "\n",
    "def results_page(selected_stock, selected_stock_ticker):\n",
    "        \n",
    "    results_window = Tk()\n",
    "    results_window.geometry('1320x730')\n",
    "    results_window.title(\"Stock Prediction System - Reccomendation Page\")\n",
    "\n",
    "    color = \"white\"\n",
    "\n",
    "    frame = Frame(results_window, background = color)\n",
    "    frame.pack(fill = BOTH)\n",
    "    \n",
    "    left_frame = Frame(frame, background = color)\n",
    "    left_frame.pack(side = LEFT, fill = Y)\n",
    "\n",
    "    top_frame = Frame(frame, background = color)\n",
    "    top_frame.pack(side = TOP, fill = BOTH)\n",
    "    \n",
    "    def goToMainPage():\n",
    "        results_window.destroy()\n",
    "        main_page()\n",
    "    \n",
    "    home_button = Button(left_frame, text = \"Home\", borderwidth = 0, command = goToMainPage)\n",
    "    home_button.config(font = (\"Times New Roman\", 25, \"bold\"), bg = \"black\", fg = color)\n",
    "    home_button.pack(padx = (25, 25), pady = (25,25))\n",
    "\n",
    "    stock_name_label = tk.Label(frame, text = selected_stock.upper() + \" (\" + selected_stock_ticker + \")\")\n",
    "    stock_name_label.config(font = (\"Times New Roman\", 35, \"bold\"), bg = color)\n",
    "    stock_name_label.pack(fill = BOTH, padx = (25, 25), pady = (25, 25))\n",
    "\n",
    "    if selected_stock_ticker.lower() in investing_list:\n",
    "        rec = \"yes\"\n",
    "    else:\n",
    "        rec = \"no\"\n",
    "\n",
    "    reccomendation = tk.Label(frame, text = \"RECCOMMENDED: \" + rec.upper())\n",
    "    reccomendation.config(font = (\"Times New Roman\", 25), bg = color)\n",
    "    reccomendation.pack(fill = BOTH, pady = (15,0))\n",
    "\n",
    "    f = Figure(figsize = (12,7), dpi = 100)\n",
    "    a = f.add_subplot(111)\n",
    "    a.plot(dfa['Date'], dfa[selected_stock_ticker])\n",
    "    a.set_ylabel = \"Price\"\n",
    "    a.axes.xaxis.set_ticklabels([])\n",
    "\n",
    "    canvas = FigureCanvasTkAgg(f, frame)\n",
    "    canvas.show()\n",
    "    canvas.get_tk_widget().pack(fill = BOTH, expand = True)\n",
    "    \n",
    "    results_window.mainloop()"
   ]
  },
  {
   "cell_type": "code",
   "execution_count": 17,
   "metadata": {
    "collapsed": true
   },
   "outputs": [],
   "source": [
    "def stock_prediction_system():\n",
    "    main_page()"
   ]
  },
  {
   "cell_type": "code",
   "execution_count": 58,
   "metadata": {
    "collapsed": true
   },
   "outputs": [],
   "source": [
    "stock_prediction_system()"
   ]
  }
 ],
 "metadata": {
  "kernelspec": {
   "display_name": "Python 3",
   "language": "python",
   "name": "python3"
  },
  "language_info": {
   "codemirror_mode": {
    "name": "ipython",
    "version": 3
   },
   "file_extension": ".py",
   "mimetype": "text/x-python",
   "name": "python",
   "nbconvert_exporter": "python",
   "pygments_lexer": "ipython3",
   "version": "3.6.3"
  }
 },
 "nbformat": 4,
 "nbformat_minor": 2
}
