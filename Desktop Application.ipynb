{
 "cells": [
  {
   "cell_type": "code",
   "execution_count": 2,
   "metadata": {
    "collapsed": true
   },
   "outputs": [],
   "source": [
    "import tkinter as tk\n",
    "from tkinter import *\n",
    "from tkinter import ttk\n",
    "import matplotlib\n",
    "matplotlib.use(\"TkAgg\")\n",
    "from matplotlib.backends.backend_tkagg import FigureCanvasTkAgg\n",
    "from matplotlib.figure import Figure\n",
    "import pandas as pd\n",
    "from PIL import Image, ImageTk\n",
    "import os"
   ]
  },
  {
   "cell_type": "code",
   "execution_count": 3,
   "metadata": {
    "collapsed": true
   },
   "outputs": [],
   "source": [
    "dfa = pd.read_csv(\"stock_prices(1).csv\")\n",
    "dfb = pd.read_csv(\"S&P_stock_details.csv\")\n",
    "\n",
    "investing_list = pd.read_csv(\"reccomendation.csv\")[\"investing_list\"].tolist()\n",
    "        \n",
    "path = 'C:/Users/USER/College Project/intraQuarter'\n",
    "stats_path = path + '/_KeyStats'\n",
    "stock_list = [x[0] for x in os.walk(stats_path)]\n",
    "\n",
    "ticker_list = []\n",
    "    \n",
    "for each_dir in stock_list[1:]:\n",
    "    each_file = os.listdir(each_dir)\n",
    "    ticker = each_dir.split('\\\\')[1]\n",
    "    ticker_list.append(ticker)\n",
    "\n",
    "all_companies_list = []\n",
    "\n",
    "for i in dfb[\"Symbol\"]:\n",
    "    if i.lower() in ticker_list:\n",
    "        all_companies_list.append(dfb[dfb[\"Symbol\"] == i][\"Name\"].tolist()[0])\n",
    "        \n",
    "reccomended_stock_list = []\n",
    "\n",
    "for i in dfb[\"Symbol\"]:\n",
    "    if i.lower() in investing_list:\n",
    "        reccomended_stock_list.append(dfb[dfb[\"Symbol\"] == i][\"Name\"].tolist()[0])\n",
    "\n",
    "sector_list = []\n",
    "\n",
    "for i in dfb[\"Sector\"].unique():\n",
    "    sector_list.append(i)\n",
    "    \n",
    "def get_ticker_for_name(name):\n",
    "    return dfb[dfb[\"Name\"] == name][\"Symbol\"].tolist()[0]"
   ]
  },
  {
   "cell_type": "code",
   "execution_count": 4,
   "metadata": {
    "collapsed": true
   },
   "outputs": [],
   "source": [
    "# Main Page\n",
    "\n",
    "root = Tk()\n",
    "root.geometry('1320x700')\n",
    "\n",
    "color = \"white\"\n",
    "\n",
    "frame = Frame(root, background = color)\n",
    "frame.grid()\n",
    "\n",
    "def main_page(frame):\n",
    "    \n",
    "    main_label = tk.Label(frame, text = \"STOCK PREDICTION SYSTEM\")\n",
    "    main_label.config(font = (\"Times New Roman\", 35, \"bold\"), bg = color)\n",
    "    main_label.grid(row = 0, ipadx = 25,padx = (290,290), ipady = 25, pady = (0,20), columnspan = 2, sticky = EW)\n",
    "\n",
    "    reccommended_stocks_label = tk.Label(frame, text = \"RECCOMMENDED STOCKS\")\n",
    "    reccommended_stocks_label.config(font = (\"Times New Roman\", 25, \"italic\"), bg = color)\n",
    "    reccommended_stocks_label.grid(row = 1, columnspan = 2, pady = (0, 25), sticky = EW)\n",
    "\n",
    "    variable1 = StringVar(root)\n",
    "    variable1.set(reccomended_stock_list[0])\n",
    "    reccommended_drop_down = OptionMenu(frame, variable1, *reccomended_stock_list)\n",
    "    reccommended_drop_down.config(font = (\"Times New Roman\", 15), bg = color, width=25)\n",
    "    reccommended_drop_down.grid(row = 2, column = 0, ipadx = 25, ipady = 15, pady = (0, 30), padx = (230,0))\n",
    "\n",
    "    go_button1 = tk.Button(frame, text = \"Go\",  borderwidth = 1)\n",
    "    go_button1.config(font = (\"Times New Roman\", 15), bg = color, width = 25)\n",
    "    go_button1.grid(row = 2, column = 1, ipadx = 25, ipady = 15, pady = (0, 30), padx = (0, 230))\n",
    "\n",
    "    sectors_label = tk.Label(frame, text = \"SECTORS\")\n",
    "    sectors_label.config(font = (\"Times New Roman\", 25, \"italic\"), bg = color, width = 35)\n",
    "    sectors_label.grid(row = 3, column = 0, pady = (25, 25), columnspan = 2, sticky = EW)\n",
    "\n",
    "    variable2 = StringVar(frame)\n",
    "    variable2.set(sector_list[0])\n",
    "    sector_drop_down = OptionMenu(frame, variable2, *sector_list)\n",
    "    sector_drop_down.config(font = (\"Times New Roman\", 15), bg = color, width=25)\n",
    "    sector_drop_down.grid(row = 4, column = 0, ipadx = 25, ipady = 15, pady = (0, 30), padx = (230,0))\n",
    "\n",
    "    go_button2 = tk.Button(frame, text = \"Go\",  borderwidth = 1)\n",
    "    go_button2.config(font = (\"Times New Roman\", 15), bg = color, width = 25)\n",
    "    go_button2.grid(row = 4, column = 1, ipadx = 25, ipady = 15, pady = (0, 30), padx = (0, 230))\n",
    "\n",
    "    all_stocks_label = tk.Label(frame, text = \"ALL STOCKS IN S&P 500\")\n",
    "    all_stocks_label.config(font = (\"Times New Roman\", 25, \"italic\"), bg = color, width = 35)\n",
    "    all_stocks_label.grid(row = 5, column = 0, pady = (25,25), columnspan = 2, sticky = EW)\n",
    "\n",
    "    variable3 = StringVar(frame)\n",
    "    variable3.set(all_companies_list[0])\n",
    "    all_stocks_drop_down = OptionMenu(frame, variable3, *all_companies_list)\n",
    "    all_stocks_drop_down.config(font = (\"Times New Roman\", 15), bg = color, width=25)\n",
    "    all_stocks_drop_down.grid(row = 6, column = 0, ipadx = 25, ipady = 15, pady = (0, 50), padx = (230,0))\n",
    "\n",
    "    go_button3 = tk.Button(frame, text = \"Go\",  borderwidth = 1)\n",
    "    go_button3.config(font = (\"Times New Roman\", 15), bg = color, width = 25)\n",
    "    go_button3.grid(row = 6, column = 1, ipadx = 25, ipady = 15, pady = (0, 50), padx = (0, 230))\n",
    "    \n",
    "main_page(frame)\n",
    "\n",
    "root.mainloop()"
   ]
  },
  {
   "cell_type": "code",
   "execution_count": 7,
   "metadata": {},
   "outputs": [],
   "source": [
    "# Sector Page\n",
    "\n",
    "def sector_page():\n",
    "    \n",
    "    root = Tk()\n",
    "    root.geometry('1320x700')\n",
    "\n",
    "    color = \"white\"\n",
    "\n",
    "    frame = Frame(root, background = color)\n",
    "    frame.pack(fill = BOTH)\n",
    "    selected_sector_name = sector_list[10]\n",
    "    \n",
    "    left_frame = Frame(frame, background = color)\n",
    "    left_frame.pack(side = LEFT, fill = Y, expand = False)\n",
    "\n",
    "    top_frame = Frame(frame, background = color)\n",
    "    top_frame.pack(side = TOP, fill = X, expand = True)\n",
    "\n",
    "    back_button = Button(left_frame, background = color, borderwidth = 0)\n",
    "    back_button.config(image = image)\n",
    "    back_button.pack(padx = (25,25), pady = (25,25))\n",
    "\n",
    "    sector_name = tk.Label(top_frame, text = selected_sector_name.upper())\n",
    "    sector_name.config(font = (\"Times New Roman\", 35, \"bold\"), bg = color)\n",
    "    sector_name.pack(padx = 50, pady = 50)\n",
    "\n",
    "    def sector(selected_sector):\n",
    "        return dfb[dfb[\"Sector\"] == selected_sector][\"Name\"].tolist()\n",
    "\n",
    "    variable = StringVar(root)\n",
    "    variable.set(sector(selected_sector_name)[0])\n",
    "    drop_down = OptionMenu(frame, variable, *sector(selected_sector_name))\n",
    "    drop_down.config(font = (\"Times New Roman\", 15), bg = color, width = 60, borderwidth = 1)\n",
    "    drop_down.pack(padx = 50, pady = 50, ipady = 10)\n",
    "\n",
    "    selected_stock_ticker = get_ticker_for_name(variable.get())\n",
    "    selected_stock = variable.get()\n",
    "\n",
    "    go_button = Button(frame, text = \"Go\", padx = 20,  borderwidth = 1)\n",
    "    go_button.config(font = (\"Times New Roman\", 15), bg = color, width = 25)\n",
    "    go_button.pack(padx = 20, pady = (20,320), ipady = 10)\n",
    "    \n",
    "sector_page()\n",
    "\n",
    "root.mainloop()"
   ]
  },
  {
   "cell_type": "code",
   "execution_count": 10,
   "metadata": {
    "collapsed": true
   },
   "outputs": [],
   "source": [
    "# Result Page\n",
    "\n",
    "root = tk.Toplevel()\n",
    "root.geometry('1320x700')\n",
    "\n",
    "stock_name = reccomended_stock_list[4]\n",
    "stock_ticker = get_ticker_for_name(stock_name)\n",
    "\n",
    "color = \"white\"\n",
    "\n",
    "frame = Frame(root, background = color)\n",
    "frame.pack()\n",
    "\n",
    "def results_page(frame, stock_name, stock_ticker):\n",
    "\n",
    "    left_frame = Frame(frame, background = color)\n",
    "    left_frame.pack(side = LEFT, fill = Y)\n",
    "\n",
    "    top_frame = Frame(frame, background = color)\n",
    "    top_frame.pack(side = TOP, fill = BOTH)\n",
    "\n",
    "    home_button = Button(left_frame, background = color, borderwidth = 0)\n",
    "    photo = Image.open('home_button.png')\n",
    "    image = ImageTk.PhotoImage(photo)\n",
    "    home_button.config(image = image)\n",
    "    home_button.pack(padx = (25, 25), pady = (25,25))\n",
    "\n",
    "    stock_name_label = tk.Label(top_frame, text = stock_name + \" (\" + stock_ticker + \")\")\n",
    "    stock_name_label.config(font = (\"Times New Roman\", 35, \"bold\"), bg = color)\n",
    "    stock_name_label.pack(fill = BOTH)\n",
    "\n",
    "    if stock_ticker.lower() in investing_list:\n",
    "        rec = \"yes\"\n",
    "    else:\n",
    "        rec = \"no\"\n",
    "\n",
    "    reccomendation = tk.Label(frame, text = \"RECCOMMENDED: \" + rec.upper())\n",
    "    reccomendation.config(font = (\"Times New Roman\", 25), bg = color)\n",
    "    reccomendation.pack(fill = BOTH, pady = (15,0))\n",
    "\n",
    "    f = Figure(figsize = (12,6), dpi = 100)\n",
    "    a = f.add_subplot(111)\n",
    "    a.plot(dfa['Date'], dfa[stock_ticker])\n",
    "    a.set_ylabel = \"Price\"\n",
    "    a.axes.xaxis.set_ticklabels([])\n",
    "\n",
    "    canvas = FigureCanvasTkAgg(f, frame)\n",
    "    canvas.show()\n",
    "    canvas.get_tk_widget().pack(fill = tk.BOTH, expand = True)\n",
    "    \n",
    "results_page(frame, stock_name, stock_ticker)\n",
    "\n",
    "root.mainloop()"
   ]
  },
  {
   "cell_type": "code",
   "execution_count": 263,
   "metadata": {},
   "outputs": [
    {
     "name": "stdout",
     "output_type": "stream",
     "text": [
      "Information Technology\n"
     ]
    },
    {
     "data": {
      "text/plain": [
       "'Accenture plc'"
      ]
     },
     "execution_count": 263,
     "metadata": {},
     "output_type": "execute_result"
    }
   ],
   "source": [
    "def sector1(selected_sector):\n",
    "    return dfb[dfb[\"Sector\"] == selected_sector][\"Name\"].tolist()\n",
    "\n",
    "sector_number = 2\n",
    "\n",
    "print(sector_list[sector_number])\n",
    "sector1(sector_list[sector_number])[0]\n"
   ]
  },
  {
   "cell_type": "code",
   "execution_count": 287,
   "metadata": {},
   "outputs": [
    {
     "name": "stdout",
     "output_type": "stream",
     "text": [
      "ACN\n"
     ]
    }
   ],
   "source": [
    "def get_ticker_for_name(name):\n",
    "    return dfb[dfb[\"Name\"] == name][\"Symbol\"].tolist()[0]\n",
    "\n",
    "get_ticker_for_name(\"AES Corp\")"
   ]
  }
 ],
 "metadata": {
  "kernelspec": {
   "display_name": "Python 3",
   "language": "python",
   "name": "python3"
  }
 },
 "nbformat": 4,
 "nbformat_minor": 2
}
